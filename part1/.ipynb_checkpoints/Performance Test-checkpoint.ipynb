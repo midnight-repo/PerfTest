{
 "cells": [
  {
   "cell_type": "markdown",
   "id": "141938ea",
   "metadata": {},
   "source": [
    "<center><h1>Technical Assessement</h1></center>"
   ]
  },
  {
   "cell_type": "markdown",
   "id": "e720e179",
   "metadata": {},
   "source": [
    "<h2 style='color:blue'>Part 1</h2>"
   ]
  },
  {
   "cell_type": "markdown",
   "id": "bdfacf17",
   "metadata": {},
   "source": [
    "<p>The server I created is fully written in python3, using the Flask framework.<p>\n",
    "<p>It runs by default on port 8000, but you can change that as well as other parameters.<p>\n",
    "<p>To get help about how to use it, run \"python3 main.py --help\"<p>"
   ]
  },
  {
   "cell_type": "code",
   "execution_count": 36,
   "id": "bffac085",
   "metadata": {},
   "outputs": [
    {
     "name": "stdout",
     "output_type": "stream",
     "text": [
      "python3: can't open file '/home/user/Desktop/assessement/part1/part1/main.py': [Errno 2] No such file or directory\r\n"
     ]
    }
   ],
   "source": [
    "!python3 part1/main.py --help"
   ]
  }
 ],
 "metadata": {
  "kernelspec": {
   "display_name": "Python 3 (ipykernel)",
   "language": "python",
   "name": "python3"
  },
  "language_info": {
   "codemirror_mode": {
    "name": "ipython",
    "version": 3
   },
   "file_extension": ".py",
   "mimetype": "text/x-python",
   "name": "python",
   "nbconvert_exporter": "python",
   "pygments_lexer": "ipython3",
   "version": "3.9.10"
  }
 },
 "nbformat": 4,
 "nbformat_minor": 5
}
