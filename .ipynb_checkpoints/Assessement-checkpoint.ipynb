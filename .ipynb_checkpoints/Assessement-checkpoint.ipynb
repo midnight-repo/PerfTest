{
 "cells": [
  {
   "cell_type": "markdown",
   "id": "141938ea",
   "metadata": {},
   "source": [
    "<center><h1>Technical Assessement</h1></center>"
   ]
  },
  {
   "cell_type": "markdown",
   "id": "e720e179",
   "metadata": {},
   "source": [
    "<center><h2 style='color:blue'>Part 1</h2></center>"
   ]
  },
  {
   "cell_type": "markdown",
   "id": "bdfacf17",
   "metadata": {},
   "source": [
    "<p>The server I created is fully written in python3, using the Flask framework.</p>\n",
    "<p>It contains two endpoints echoing back the name you submit to the form they present :<p/>\n",
    "    <ul>\n",
    "    <li>A pretty version :  <strong>/pretty_echo</strong></li>\n",
    "        <li>A minimalist version :  <strong>/echo</strong></li>\n",
    "    </ul>\n",
    "<p>It runs by default on localhost, on port <strong>8000</strong>, but you can change that as well as other parameters.</p>\n",
    "<p>To get help about possible options and their default values, run <code>python3 main.py --help</code></p>\n",
    "<i>See output below ...</i>"
   ]
  },
  {
   "cell_type": "code",
   "execution_count": 4,
   "id": "bffac085",
   "metadata": {},
   "outputs": [
    {
     "name": "stdout",
     "output_type": "stream",
     "text": [
      "usage: serv.py [-h] [-p PORT] [--host HOST] [-l LOG_FILE] [-c CERT] [-k KEY]\r\n",
      "\r\n",
      "optional arguments:\r\n",
      "  -h, --help            show this help message and exit\r\n",
      "  -p PORT, --port PORT  Port to listen on [default: 80]\r\n",
      "  --host HOST, -i HOST  Default host to listen on [default: 127.0.0.1\r\n",
      "                        (localhost)]\r\n",
      "  -l LOG_FILE, -o LOG_FILE, --log-file LOG_FILE\r\n",
      "                        File to output the server logs [default:\r\n",
      "                        <timestamp>.log]\r\n",
      "  -c CERT, --cert CERT  Server TLS/SSL certificate\r\n",
      "  -k KEY, --key KEY     TLS/SSL certificate's private key file\r\n"
     ]
    }
   ],
   "source": [
    "!python3 part1/serv.py --help"
   ]
  },
  {
   "cell_type": "markdown",
   "id": "38613148",
   "metadata": {},
   "source": [
    "<center><h2 style='color:blue'>Part 2</h2></center>"
   ]
  },
  {
   "cell_type": "markdown",
   "id": "21795b3f",
   "metadata": {},
   "source": [
    "<p>Performance testing not being my background, I tried my best to understand what was expected.</p>\n",
    "<p>Please be mindful.</p>"
   ]
  },
  {
   "cell_type": "markdown",
   "id": "53e29596",
   "metadata": {},
   "source": [
    "<h3>Load test + CPU/Mem</h3>"
   ]
  },
  {
   "cell_type": "markdown",
   "id": "4b8d43d7",
   "metadata": {},
   "source": [
    "<p>The framework I used for load testing is \"Locust\" which is as you probably know, a performance testing framework written in python.</p>\n",
    "<p>You can find more information about it on their <a href=\"https://github.com/locustio/locust\">GitHub page</a>, or on their <a href=\"https://docs.locust.io/en/stable/index.html\">Documentation</a> page.</p>\n",
    "<p>Since the server from Part 1 is running on the same machine, along with the load test, a simple python script (using bash commands though) is running in the background to get information about the server's CPU and Memory usage.</p>\n",
    "<p>To run the test, start the server from part 1, and run from part2 <code>python3 run.py &lt;srv_ip:port&gt;</code></p><p>If no server IP and port are given as parameter, the <strong>default will be 127.0.0.1:8000</strong>, which are the defaults for the server.</p>\n",
    "<p style=\"color:red\"><strong>/!\\ If you run the server on a different address than 127.0.0.1:8000, please edit line 7 of \"locustfile.py\" accordingly /!\\</strong></p>\n",
    "<p>While the test is running, you can get <strong>real time statistics</strong> by visiting the locust UI available at <a href=\"http://127.0.0.1:8089\">http://127.0.0.1:8089</a></p>\n",
    "<p>This script simply runs concurrently the locust command and the cpumem.py script, and, whenever it is interrupted (CTRL + C), it reads the locust and cpumem.py csv files (respectively \"reports/locust_test_stats_history.csv\" and \"reports/cpumem.csv\") and merges them into one dataset with pandas (\"<strong>reports/performance.csv</strong>\"), which is also used to render the performance charts.</p>\n",
    "<p>The script scales up to 10 000 users with a spawn rate of 2 user/second (see section below to edit those values), all results are saved in the <strong>\"reports\" directory</strong>, but as locust is a CLI tool, you can edit the locust command in last line of the \"run.py\" file to suit your needs.</p>\n",
    "<p><strong><i>Please note that this script could be optimized for more configurability and other concerns, but for the sake of this assessement, and to keep to code simple, please use it at it is.</i></strong></p>"
   ]
  },
  {
   "cell_type": "markdown",
   "id": "74238f96",
   "metadata": {},
   "source": [
    "<h3 style=\"color:green\">About the locustfile.py</h3>\n",
    "<p>The locustfile.py <strong>can be considered as a configuration file</strong> even though it's a python script.</p>\n",
    "<p>It is passed as argument to the locust command, and in it, it is possible to describe multiple load shapes, user types, tasks, and a lot more.</p>\n",
    "<p>For the sake of this assessement, and to keep the code simple, I created a <strong>two user types</strong> \"BrowserUser\" and \"TerminalUser\" with a <strong>BrowserUser/TerminalUser ratio of 3/1</strong> (this can be tweaked by editing the weight attribute of each user class).\n",
    "<p>The <strong>BrowserUser</strong> as its name states it, simulates user interaction from the browser.</p>\n",
    "<ul> Two cases :\n",
    "    <li>GET homepage --> GET echo_endpoint --> POST name</li>\n",
    "    <li>GET echo_endpoint --> POST name</li>\n",
    "</ul>\n",
    "<p>The <strong>TerminalUser</strong> as its name states it, simulates user interaction from terminal.</p>\n",
    "<ul>Most likely, one case :\n",
    "    <li>POST name</li>\n",
    "</ul>\n",
    "<p>Each user randomly picks a task and executes it. It then waits for 1 to 5 seconds (this is specified by the wait_time attribute of the User Class), and picks a task again.\n",
    "<i>(Note that the probability for a task to be chosen can be adjusted, by adding an int as parameter for the \"task()\" decorator, which represents the probability for the task to be picked).</i></p>\n",
    "<p><strong>You can specify to run only one user type</strong> in the locust command (last line of the \"run.py\" file) :</p>\n",
    "<p>locust &lt;options&gt; &lt;UserClass1&gt; &lt;UserClass2&gt;</p>\n",
    "<i>See usage in \"run.py\" code to understand better.</i>\n",
    "<p><strong>You can also chose to test only one endpoint</strong>. Each task is the \"locustfile.py\" can be assigned with one or more tag. In this case, tasks are assigned to either \"pretty\" or \"minimal\", respectively representing the the \"/pretty_echo\" and \"/echo\" endpoints.</p>\n",
    "<p>To specify which tag, and thus in this case, which endpoint should be ran, you can add to the locust command (last line of \"run.py\" file) the -E &lt;tag1&gt; &lt;tag2&gt; to exclude tags or -T &lt;tag1&gt; &lt;tag2&gt; to include them.</p>\n",
    "<i>See usage in \"run.py\" code to understand better.</i>"
   ]
  },
  {
   "cell_type": "markdown",
   "id": "73d9e12a",
   "metadata": {},
   "source": [
    "<h3 style=\"color:green\">About the other notebooks</h3>\n",
    "<p>This project contains 4 notebooks (including this one) :</p>\n",
    "<ul>\n",
    "    <li><strong>Assessement.ipynb :</strong>  Presents the the project</li>\n",
    "    <li><strong>Sample Analysis.ipynb :</strong>  This is a quick analysis using data obtained by running the test on my computer</li>\n",
    "    <li><strong>Test Report.ipynb :</strong>  Open this notebook after running a test to get a pretty report</li>\n",
    "    <li><strong>Payload Size.ipynb :</strong>  This is a small extra, quick analysis of the server's response time and CPU usage depending on the request body length.</li>\n",
    "</ul>"
   ]
  }
 ],
 "metadata": {
  "kernelspec": {
   "display_name": "Python 3 (ipykernel)",
   "language": "python",
   "name": "python3"
  },
  "language_info": {
   "codemirror_mode": {
    "name": "ipython",
    "version": 3
   },
   "file_extension": ".py",
   "mimetype": "text/x-python",
   "name": "python",
   "nbconvert_exporter": "python",
   "pygments_lexer": "ipython3",
   "version": "3.9.10"
  }
 },
 "nbformat": 4,
 "nbformat_minor": 5
}
